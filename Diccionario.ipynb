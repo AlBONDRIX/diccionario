{
 "cells": [
  {
   "cell_type": "code",
   "execution_count": null,
   "id": "5f91cc38-371f-4c42-a47e-4c0b70b2ca4b",
   "metadata": {},
   "outputs": [
    {
     "name": "stdout",
     "output_type": "stream",
     "text": [
      "menu\n",
      "1,agregar un elemento\n",
      "2,buscar un elemento por nombre\n",
      "3,cambiar un elemnto por nombre\n",
      "4,borrar un elemento por nombre\n",
      "5,mostrar el diccionario\n",
      "6,salir\n"
     ]
    }
   ],
   "source": [
    "print(\"menu\"),\n",
    "print(\"1,agregar un elemento\"),\n",
    "print(\"2,buscar un elemento por nombre\"),\n",
    "print(\"3,cambiar un elemnto por nombre\"),\n",
    "print(\"4,borrar un elemento por nombre\"),\n",
    "print(\"5,mostrar el diccionario\")\n",
    "print(\"6,salir\")\n",
    "diccionario={}\n",
    "while True:\n",
    "    a=input(\"elija la opcion deseada\")\n",
    "    if a==\"1\":\n",
    "        print(\"agrege un elemento\")\n",
    "        key=input(\"escriba el numero del dato: \")\n",
    "        es=input(\"escriba el dato deseado: \")\n",
    "        diccionario[key]=[es] \n",
    "    if a==\"2\":\n",
    "        print(\"buscar elemeto por nombre\")\n",
    "        key=input(\"escriba el numero del dato: \")\n",
    "        if key in diccionario:\n",
    "            numero=diccionario[key]\n",
    "            print(numero)\n",
    "    if a==\"3\":\n",
    "        print(\"cambiar un elemento por nombre\")\n",
    "        key=input(\"escriba el numero del elemento que desa cambiar  por su nombre: \")\n",
    "        if key in diccionario:\n",
    "            cambio=input(\"escriba el nuevo nombre: \")\n",
    "            diccionario[key]=[cambio]\n",
    "            print(\"cambio completado: \")\n",
    "    if a==\"4\":   \n",
    "        print(\"borrar un elemento por nombre\")\n",
    "        key=input(\"escriba el elemento para borrar; \")\n",
    "        diccionario.pop(key)\n",
    "        print(\"elemento borrado\")\n",
    "    if a==\"5\":\n",
    "          print(\"muestra el diccionario\")\n",
    "          for key in diccionario:\n",
    "              print(key,\"=\",diccionario[key])\n",
    "    if a==\"6\":\n",
    "           print(\"sali\")\n",
    "           break\n",
    "else:\n",
    "    print(\"opciones no encontradas:\")"
   ]
  },
  {
   "cell_type": "code",
   "execution_count": null,
   "id": "4fd4cd57-69a2-4cfe-bf5c-92297a602df3",
   "metadata": {},
   "outputs": [],
   "source": []
  }
 ],
 "metadata": {
  "kernelspec": {
   "display_name": "Python 3 (ipykernel)",
   "language": "python",
   "name": "python3"
  },
  "language_info": {
   "codemirror_mode": {
    "name": "ipython",
    "version": 3
   },
   "file_extension": ".py",
   "mimetype": "text/x-python",
   "name": "python",
   "nbconvert_exporter": "python",
   "pygments_lexer": "ipython3",
   "version": "3.11.4"
  }
 },
 "nbformat": 4,
 "nbformat_minor": 5
}
